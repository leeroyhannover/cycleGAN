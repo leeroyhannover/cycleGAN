{
 "cells": [
  {
   "cell_type": "markdown",
   "id": "45877840",
   "metadata": {},
   "source": [
    "# CycleGAN to transform focal series into 3D volume. 3D conv + deep structure"
   ]
  },
  {
   "cell_type": "markdown",
   "id": "4a9cc9e9-fc6a-4ee1-9379-12310ef438f7",
   "metadata": {
    "tags": []
   },
   "source": [
    "## Init"
   ]
  },
  {
   "cell_type": "code",
   "execution_count": 1,
   "id": "29520916",
   "metadata": {},
   "outputs": [
    {
     "name": "stdout",
     "output_type": "stream",
     "text": [
      "name: \"/device:GPU:0\"\n",
      "device_type: \"GPU\"\n",
      "memory_limit: 5724176384\n",
      "locality {\n",
      "  bus_id: 1\n",
      "  links {\n",
      "  }\n",
      "}\n",
      "incarnation: 4628455239646315591\n",
      "physical_device_desc: \"device: 0, name: NVIDIA GeForce RTX 3080 Laptop GPU, pci bus id: 0000:01:00.0, compute capability: 8.6\"\n",
      "xla_global_id: 416903419\n",
      "\n"
     ]
    },
    {
     "data": {
      "text/plain": [
       "[None]"
      ]
     },
     "execution_count": 1,
     "metadata": {},
     "output_type": "execute_result"
    }
   ],
   "source": [
    "# import tensorflow as tf\n",
    "# print(tf.__version__)\n",
    "\n",
    "from tensorflow.python.client import device_lib\n",
    "\n",
    "local_device_protos = device_lib.list_local_devices()\n",
    "\n",
    "[print(x) for x in local_device_protos if x.device_type == 'GPU']"
   ]
  },
  {
   "cell_type": "code",
   "execution_count": 2,
   "id": "4815209a-77fa-414d-984a-01a1f408d653",
   "metadata": {},
   "outputs": [],
   "source": [
    "import os \n",
    "import numpy as np\n",
    "import keras\n",
    "import matplotlib.pyplot as plt\n",
    "import glob\n",
    "import random\n",
    "\n",
    "import sys \n",
    "sys.path.append(\"..\") \n"
   ]
  },
  {
   "cell_type": "code",
   "execution_count": 3,
   "id": "7ae4ed39-14fc-4242-8e7e-786ac3aa4a63",
   "metadata": {},
   "outputs": [],
   "source": [
    "# visualize\n",
    "\n",
    "def visusalizeIMG(n_slice, test_img, test_msk):\n",
    "    # n_slice = random.randint(0, test_img.shape[2])\n",
    "    plt.figure(figsize=(8, 8))\n",
    "\n",
    "    plt.subplot(121)\n",
    "    plt.imshow(test_img[n_slice,:,:], cmap='gray')\n",
    "    # plt.title('focal slice')\n",
    "    plt.subplot(122)\n",
    "    plt.imshow(test_msk[n_slice,:,:], cmap='gray')\n",
    "    # plt.titSle('GT slice')\n",
    "    plt.show()"
   ]
  },
  {
   "cell_type": "markdown",
   "id": "184cdb63-32d1-4823-99b5-42f9ed752cfc",
   "metadata": {
    "tags": []
   },
   "source": [
    "## Load data"
   ]
  },
  {
   "cell_type": "code",
   "execution_count": 20,
   "id": "6b3094f0-f2f1-4110-800f-7cbfc80fcda8",
   "metadata": {
    "tags": []
   },
   "outputs": [],
   "source": [
    "# generate the gif\n",
    "\n",
    "import numpy as np\n",
    "from PIL import Image\n",
    "import SimpleITK as sitk\n",
    "import mrcfile\n",
    "\n",
    "def saveGIF(imageGIF, labelGIF, predict, direction, gif_directory):\n",
    "    \n",
    "    # print('during gif') \n",
    "    \n",
    "    imageGIF = imageGIF  # the original dataset is 8 bits\n",
    "    stack = []\n",
    "    \n",
    "    # print(image.shape, label.shape, predict.shape)\n",
    "    # print('image:', np.max(imageGIF), np.min(imageGIF))\n",
    "    # print('label after gif: ', np.max(labelGIF), np.min(labelGIF))\n",
    "    # print('predict: ', np.max(predict), np.min(predict))\n",
    "    \n",
    "    bar = np.ones((imageGIF.shape[0], 10)) # divide the images\n",
    "    \n",
    "    if direction == 0:\n",
    "        print('cut along x')\n",
    "    elif direction == 1:\n",
    "        print('cut along y')\n",
    "\n",
    "    elif direction == 2:\n",
    "        print('cut along z')\n",
    "        \n",
    "    else:\n",
    "        print('please specify the direction')\n",
    "    \n",
    "    \n",
    "    for i in range(imageGIF.shape[0]):\n",
    "\n",
    "        if direction == 0:\n",
    "            temp1 = imageGIF[i,...]\n",
    "            temp2 = predict[i,...]\n",
    "            temp3 = labelGIF[i,...]\n",
    "            \n",
    "        elif direction == 1:\n",
    "            temp1 = imageGIF[:,i,:]\n",
    "            temp2 = predict[:,i,:]\n",
    "            temp3 = labelGIF[:,i,:]\n",
    "        \n",
    "        elif direction == 2:\n",
    "            temp1 = imageGIF[...,i]\n",
    "            temp2 = predict[...,i]\n",
    "            temp3 = labelGIF[...,i]\n",
    "        else:\n",
    "            print('illegal cut')\n",
    "        \n",
    "        \n",
    "        # print('round:', i)\n",
    "        # print('image concatenate:', temp1.shape)\n",
    "        # print('label concatenate:', temp2.shape)\n",
    "        # print('predict concatenate:', temp3.shape)\n",
    "        \n",
    "        imageTemp = np.concatenate((temp1, bar, temp2, bar, temp3), axis=1)\n",
    "        # print('after concatenate:', imageTemp.shape)\n",
    "        stack.append(imageTemp)\n",
    "        \n",
    "    stack = np.asarray(stack)\n",
    "    \n",
    "    # imgs = [img*255 for img in stack]\n",
    "    imgs = [Image.fromarray(img*255) for img in stack]  # pil要求整体图片乘上255\n",
    "    # duration is the number of milliseconds between frames; this is 40 frames per second\n",
    "    imgs[0].save(gif_directory, save_all=True, append_images=imgs[1:], duration=50, loop=0)\n",
    "    \n",
    "    # write as nii\n",
    "    # writer = sitk.ImageFileWriter()\n",
    "    # writer.SetFileName('./results/result.nii')\n",
    "    # writer.Execute(stack)\n",
    "    \n",
    "    mrc = mrcfile.new('./results/result.mrc', overwrite=True)\n",
    "    mrc.set_data((stack*255).astype('int8'))\n",
    "    mrc.close\n",
    "    \n",
    "    np.save('./results/result.npy', stack)\n",
    "    "
   ]
  },
  {
   "cell_type": "code",
   "execution_count": 21,
   "id": "ad044b93-5607-4254-860b-21a474a75900",
   "metadata": {},
   "outputs": [
    {
     "name": "stdout",
     "output_type": "stream",
     "text": [
      "160\n"
     ]
    }
   ],
   "source": [
    "# specify the dir\n",
    "\n",
    "DATA_PATH = 'E:/EM/demo/3D_Unet_keras/data/2022_08/inputData/'\n",
    "\n",
    "train_img_dir = DATA_PATH + 'train/images/'\n",
    "train_msk_dir = DATA_PATH + 'train/masks/'\n",
    "\n",
    "train_img_list = sorted(glob.glob(train_img_dir + '/*.npy'))\n",
    "train_msk_list = sorted(glob.glob(train_msk_dir + '/*.npy'))\n",
    "\n",
    "num_images = len(train_img_list)\n",
    "print(num_images)"
   ]
  },
  {
   "cell_type": "code",
   "execution_count": 22,
   "id": "18f07eb3-6a3f-4e3c-819b-aca0f331172a",
   "metadata": {},
   "outputs": [
    {
     "name": "stdout",
     "output_type": "stream",
     "text": [
      "image list: E:/EM/demo/3D_Unet_keras/data/2022_08/inputData/train/images\\image_110.npy\n",
      "mask list: E:/EM/demo/3D_Unet_keras/data/2022_08/inputData/train/masks\\mask_110.npy\n"
     ]
    }
   ],
   "source": [
    "print('image list:', train_img_list[10])\n",
    "print('mask list:', train_msk_list[10])"
   ]
  },
  {
   "cell_type": "code",
   "execution_count": 24,
   "id": "cf4d7d9a-28c6-47ec-84f4-b6c31eb39118",
   "metadata": {},
   "outputs": [
    {
     "name": "stdout",
     "output_type": "stream",
     "text": [
      "image shape: (64, 64, 64)\n",
      "before mask: (64, 64, 64, 2)\n",
      "after mask: (64, 64, 64)\n"
     ]
    }
   ],
   "source": [
    "# visualize the images\n",
    "import random\n",
    "\n",
    "\n",
    "img_num = random.randint(0, num_images-1) # num从1开始\n",
    "test_img = np.load(train_img_list[img_num])\n",
    "test_img = test_img[...,0]\n",
    "print('image shape:', test_img.shape)\n",
    "\n",
    "test_mask = np.load(train_msk_list[img_num])\n",
    "print('before mask:', test_mask.shape)\n",
    "test_mask = np.argmax(test_mask, axis=3)\n",
    "print('after mask:', test_mask.shape)"
   ]
  },
  {
   "cell_type": "code",
   "execution_count": 25,
   "id": "3e1f1286-5c91-4da8-82ba-63890a8ff8da",
   "metadata": {},
   "outputs": [
    {
     "name": "stdout",
     "output_type": "stream",
     "text": [
      "(64, 64, 64, 1)\n"
     ]
    }
   ],
   "source": [
    "#  reshape data for 2D deep UNet\n",
    "\n",
    "# test = np.stack([test_mask], axis=3)\n",
    "# print(test.shape)\n",
    "test = np.expand_dims(test_mask, axis = -1)\n",
    "print(test.shape)"
   ]
  },
  {
   "cell_type": "code",
   "execution_count": 26,
   "id": "f11a1efd-9013-4d0b-8ff3-abb8e2a226d3",
   "metadata": {
    "tags": []
   },
   "outputs": [
    {
     "name": "stdout",
     "output_type": "stream",
     "text": [
      "current slice: 32\n"
     ]
    },
    {
     "data": {
      "image/png": "[encoded data removed]",
      "text/plain": [
       "<Figure size 576x576 with 2 Axes>"
      ]
     },
     "metadata": {
      "needs_background": "light"
     },
     "output_type": "display_data"
    },
    {
     "name": "stdout",
     "output_type": "stream",
     "text": [
      "current slice: 34\n"
     ]
    },
    {
     "data": {
      "image/png": "[encoded data removed]",
      "text/plain": [
       "<Figure size 576x576 with 2 Axes>"
      ]
     },
     "metadata": {
      "needs_background": "light"
     },
     "output_type": "display_data"
    }
   ],
   "source": [
    "# visualize the images \n",
    "\n",
    "# n_slice = random.randint(0, test_mask.shape[2]-1)\n",
    "\n",
    "n_slice = 32\n",
    "print('current slice:', n_slice)\n",
    "visusalizeIMG(n_slice, test_img, test_mask)\n",
    "\n",
    "print('current slice:', n_slice + 2)\n",
    "visusalizeIMG(n_slice + 2, test_img, test_mask)"
   ]
  },
  {
   "cell_type": "markdown",
   "id": "732fe4c2-fe0f-4f27-8a3e-101bee3185a0",
   "metadata": {},
   "source": [
    "### Inspect the data balance"
   ]
  },
  {
   "cell_type": "code",
   "execution_count": 10,
   "id": "5d9d111b-57d9-479e-9171-79ec22ad749f",
   "metadata": {},
   "outputs": [],
   "source": [
    "import pandas as pd\n",
    "\n",
    "columns = ['0', '1']\n",
    "df = pd.DataFrame(columns=columns)\n",
    "\n",
    "train_msk_list = sorted(glob.glob(train_msk_dir + '/*.npy'))\n",
    "\n",
    "for img in range(len(train_msk_list)):\n",
    "    \n",
    "    # print(img)\n",
    "    temp_image = np.load(train_msk_list[img])\n",
    "    temp_image = np.argmax(temp_image, axis=3)  # convert back into images\n",
    "    \n",
    "    val, counts = np.unique(temp_image, return_counts=True) # count labels\n",
    "    zipped = zip(columns, counts)\n",
    "    counts_dict = dict(zipped)\n",
    "    \n",
    "    df = df.append(counts_dict, ignore_index = True)"
   ]
  },
  {
   "cell_type": "code",
   "execution_count": 11,
   "id": "3ecbf74a-b580-4c29-ad2e-72fccee8a5db",
   "metadata": {},
   "outputs": [
    {
     "name": "stdout",
     "output_type": "stream",
     "text": [
      "0.54 6.44\n"
     ]
    }
   ],
   "source": [
    "# calculate the ratio of different labels\n",
    "\n",
    "label_0 = df['0'].sum()\n",
    "label_1 = df['1'].sum()\n",
    "\n",
    "total_labels = label_0 + label_1\n",
    "n_classes = 2\n",
    "\n",
    "# class weight calculated: n_samples / (n_classes * n_samples_for_class)\n",
    "wt0 = round((total_labels/(n_classes*label_0)), 2) # 小数点后两位\n",
    "wt1 = round((total_labels/(n_classes*label_1)), 2)\n",
    "\n",
    "print(wt0, wt1)"
   ]
  },
  {
   "cell_type": "markdown",
   "id": "5ef0ae2a-5c06-40e1-afed-1fe9cbc93ebf",
   "metadata": {
    "tags": []
   },
   "source": [
    "## Data generator"
   ]
  },
  {
   "cell_type": "code",
   "execution_count": 4,
   "id": "d0562f3e-50cb-4439-a0d3-707e7ad8c2af",
   "metadata": {},
   "outputs": [
    {
     "name": "stdout",
     "output_type": "stream",
     "text": [
      "train images: 160\n",
      "val images: 40\n",
      "test images: 100\n"
     ]
    }
   ],
   "source": [
    "# data path and sort\n",
    "\n",
    "from natsort import natsorted\n",
    "from dataGenerator import imageLoader3D\n",
    "from dataGenerator import imageLoader3DIMG, imageLoader3DMSK\n",
    "\n",
    "DATA_PATH = 'E:/EM/demo/3D_Unet_keras/data/2022_08/inputData/'\n",
    "\n",
    "train_img_dir = DATA_PATH + 'train/images/'\n",
    "train_msk_dir = DATA_PATH + 'train/masks/'\n",
    "\n",
    "train_img_list = natsorted(os.listdir(train_img_dir))\n",
    "train_msk_list = natsorted(os.listdir(train_msk_dir))\n",
    "\n",
    "# validation\n",
    "val_img_dir = DATA_PATH + 'val/images/'\n",
    "val_msk_dir = DATA_PATH + 'val/masks/'\n",
    "\n",
    "val_img_list = natsorted(os.listdir(val_img_dir))\n",
    "val_msk_list = natsorted(os.listdir(val_msk_dir))\n",
    "\n",
    "# testing\n",
    "test_img_dir = DATA_PATH + 'test/images/'\n",
    "test_msk_dir = DATA_PATH + 'test/masks/'\n",
    "\n",
    "test_img_list = natsorted(os.listdir(test_img_dir))\n",
    "test_msk_list = natsorted(os.listdir(test_msk_dir))\n",
    "\n",
    "print('train images:', len(train_img_list))\n",
    "print('val images:', len(val_img_list))\n",
    "print('test images:', len(test_img_list))"
   ]
  },
  {
   "cell_type": "code",
   "execution_count": 5,
   "id": "7fdaf5ad-b988-4c12-9c74-dd231db359ae",
   "metadata": {},
   "outputs": [],
   "source": [
    "# data generator for training\n",
    "\n",
    "batch_size = 1\n",
    "\n",
    "train_img_datagen = imageLoader3DIMG(train_img_dir, train_img_list,\n",
    "                               train_msk_dir, train_msk_list, batch_size)\n",
    "\n",
    "train_msk_datagen = imageLoader3DMSK(train_img_dir, train_img_list,\n",
    "                               train_msk_dir, train_msk_list, batch_size)\n",
    "\n",
    "\n",
    "# val_img_datagen = imageLoader3D(val_img_dir, val_img_list,\n",
    "#                              val_msk_dir, val_msk_list, batch_size)"
   ]
  },
  {
   "cell_type": "code",
   "execution_count": 6,
   "id": "9f280027-157b-475c-bd35-4002dd22e693",
   "metadata": {},
   "outputs": [
    {
     "name": "stdout",
     "output_type": "stream",
     "text": [
      "image gen: (1, 64, 64, 64, 1) (1, 64, 64, 64, 1) -0.9999046055458172 0.9260313743965414 -1.0 1.0\n",
      "(64, 64, 64)\n",
      "slice num: 60\n"
     ]
    },
    {
     "data": {
      "image/png": "[encoded data removed]",
      "text/plain": [
       "<Figure size 576x576 with 2 Axes>"
      ]
     },
     "metadata": {
      "needs_background": "light"
     },
     "output_type": "display_data"
    }
   ],
   "source": [
    "# visualize the data generator\n",
    "\n",
    "img = train_img_datagen.__next__()\n",
    "msk = train_msk_datagen.__next__()\n",
    "print('image gen:', img.shape, msk.shape, img.min(), img.max(), msk.min(), msk.max())\n",
    "\n",
    "stack_num = random.randint(0, img.shape[0]-1)\n",
    "test_img = np.squeeze(img[stack_num,...])\n",
    "test_mask = np.squeeze(msk[stack_num,...])\n",
    "print(test_img.shape)\n",
    "\n",
    "n_slice=random.randint(0, test_mask.shape[1]-1)\n",
    "# n_slice = 50\n",
    "\n",
    "print('slice num:', n_slice)\n",
    "visusalizeIMG(n_slice, test_mask, test_img)"
   ]
  },
  {
   "cell_type": "markdown",
   "id": "3648b47d-1cfc-4c18-9be4-5f6bb11d98e5",
   "metadata": {},
   "source": [
    "## Define model"
   ]
  },
  {
   "cell_type": "markdown",
   "id": "f8fb8c25",
   "metadata": {},
   "source": [
    "### Discriminator. 70x70 patch GAN in 3D"
   ]
  },
  {
   "cell_type": "code",
   "execution_count": 7,
   "id": "48a5c88e-857e-4173-acef-714f4e0940ae",
   "metadata": {},
   "outputs": [],
   "source": [
    "from random import random\n",
    "import numpy as np\n",
    "from numpy.random import randint\n",
    "from tensorflow.keras.optimizers import Adam\n",
    "from keras.initializers import RandomNormal\n",
    "import tensorflow.keras as k\n",
    "\n",
    "# use instance normalization as suggested in paper\n",
    "from keras_contrib.layers.normalization.instancenormalization import InstanceNormalization\n",
    "import matplotlib.pyplot as plt"
   ]
  },
  {
   "cell_type": "code",
   "execution_count": 8,
   "id": "720a870d",
   "metadata": {},
   "outputs": [
    {
     "name": "stdout",
     "output_type": "stream",
     "text": [
      "Segmentation Models: using `tf.keras` framework.\n"
     ]
    }
   ],
   "source": [
    "# C64-C128-C256-C512\n",
    "# After last layer, conv to 1-dimension then go through sigmoid\n",
    "# axis of instancenorm is '-1', ensure features are normalized per feature map\n",
    "\n",
    "import segmentation_models_3D as sm  # add the BCE to the loss\n",
    "\n",
    "\n",
    "def define_discriminator(image_shape):\n",
    "    # weight initialization\n",
    "    init = RandomNormal(stddev=0.02)\n",
    "    # source image input\n",
    "    in_image = k.layers.Input(shape=image_shape)\n",
    "    \n",
    "    #C64: 4x4 kernel, strides 2x2\n",
    "    d = k.layers.Conv3D(64, (4,4,4), strides=(2,2,2), padding='same', kernel_initializer=init)(in_image)\n",
    "    d = k.layers.LeakyReLU(alpha=0.2)(d)\n",
    "    # C128: 4x4 kernel, strides 2x2\n",
    "    d = k.layers.Conv3D(128, (4,4,4), strides=(2,2,2), padding='same', kernel_initializer=init)(d)\n",
    "    d = InstanceNormalization(axis=-1)(d) # first norm then activate\n",
    "    d = k.layers.LeakyReLU(alpha=0.2)(d)\n",
    "    # C256: 4x4 kernel, strides 2x2\n",
    "    d = k.layers.Conv3D(256, (4,4,4), strides=(2,2,2), padding='same', kernel_initializer=init)(d)\n",
    "    d = InstanceNormalization(axis=-1)(d)\n",
    "    d = k.layers.LeakyReLU(alpha=0.2)(d)\n",
    "    # C512: 4x4 kernel, stride 2x2\n",
    "    # DIY layer,not in original paper\n",
    "    d = k.layers.Conv3D(512, (4,4,4), strides=(2,2,2), padding='same', kernel_initializer=init)(d)\n",
    "    d = InstanceNormalization(axis=-1)(d)\n",
    "    d = k.layers.LeakyReLU(alpha=0.2)(d)\n",
    "    \n",
    "    # second last layer. kernel 4x4, but stride 1x1\n",
    "    d = k.layers.Conv3D(512, (4,4,4), strides=(1,1,1), padding='same', kernel_initializer=init)(d)\n",
    "    d = InstanceNormalization(axis=-1)(d)\n",
    "    d = k.layers.LeakyReLU(alpha=0.2)(d)\n",
    "    # patch output\n",
    "    patch_out = k.layers.Conv3D(1, (4,4,4), strides=(1,1,1), padding='same', kernel_initializer=init)(d)\n",
    "    \n",
    "    # define model\n",
    "    model = k.models.Model(in_image, patch_out)\n",
    "    # compile the model\n",
    "    # batch size is 1, Adam as opt.\n",
    "    # loss of D is weighted by 50% of each update. This slows down D's change to G during training\n",
    "    opt = Adam(lr=0.0002, beta_1=0.5)\n",
    "    \n",
    "    # DIY loss\n",
    "    # dice_loss = sm.losses.DiceLoss(class_weights=np.array([0.5, 0.5]))  # default is uniform\n",
    "    # focal_loss = sm.losses.CategoricalFocalLoss()\n",
    "    # BCE_loss = sm.losses.BinaryCELoss()\n",
    "    # total_loss = dice_loss*0.005 + (1* focal_loss) + BCE_loss*1  # works for most segmentation jobs\n",
    "\n",
    "    model.compile(loss='mse', optimizer=opt, loss_weights=[0.5]) \n",
    "    return model"
   ]
  },
  {
   "cell_type": "markdown",
   "id": "29d8c61d",
   "metadata": {},
   "source": [
    "### Generator. based on resnet"
   ]
  },
  {
   "cell_type": "code",
   "execution_count": 9,
   "id": "3a2409f2",
   "metadata": {},
   "outputs": [],
   "source": [
    "# residual blocks contain two 3x3 Conv with same number of filters in layers\n",
    "\n",
    "# to release the gradient vanishing and exploding\n",
    "def resnet_block(n_filters, input_layer):\n",
    "    # weight init\n",
    "    init = RandomNormal(stddev=0.02)\n",
    "    # first conv layer\n",
    "    g = k.layers.Conv3D(n_filters, (3,3,3), padding='same', kernel_initializer=init)(input_layer)\n",
    "    g = InstanceNormalization(axis=-1)(g)\n",
    "#     g = k.layers.ReLU()(g)\n",
    "    g = k.layers.Activation('relu')(g)  # ??? to layers.ReLU. 只有leaky直接调用，其他的用activation调用\n",
    "    # second conv layer\n",
    "    g = k.layers.Conv3D(n_filters, (3,3,3), padding='same', kernel_initializer=init)(g)\n",
    "    g = InstanceNormalization(axis=-1)(g)\n",
    "    \n",
    "    # merge channels with input-layer\n",
    "    g = k.layers.Concatenate()([g, input_layer])\n",
    "    \n",
    "    return g"
   ]
  },
  {
   "cell_type": "code",
   "execution_count": 10,
   "id": "2339514c",
   "metadata": {},
   "outputs": [],
   "source": [
    "# define G model: unet same structure. the final output is 3 channels for RGB\n",
    "\n",
    "# c7s1-k: 7x7 Conv -stride 1 -Instancenorm-ReLU -k filters\n",
    "# dk: 3x3 conv -stride 2 -Instancenorm-ReLU -k filters\n",
    "# Rk: residual block that contains two 3x3 conv layers\n",
    "# uk: 3x3 fractional~strided~conv -stride 1/2 -Instancenorm -ReLU -k filters\n",
    "\n",
    "# two possible structures:\n",
    "# with 6 res-blocks: c7s1-64, d128, d256,R256,R256,R256,R256,R256,R256,u128,u64,c7s1-3\n",
    "# with 9 res-blocks: c7s1-64,d128,d256,R256,R256,R256,R256,R256,R256,R256,R256,R256,u128, u64,c7s1-3\n",
    "\n",
    "def define_generator(image_shape, n_resnet=9):\n",
    "    # weight initialization\n",
    "    init = RandomNormal(stddev=0.02)\n",
    "    # image input\n",
    "    in_image = k.layers.Input(shape=image_shape)\n",
    "    \n",
    "    # c7s1-64\n",
    "    g = k.layers.Conv3D(64, (7,7,7), strides=(1,1,1), padding='same', kernel_initializer=init)(in_image)\n",
    "    g = InstanceNormalization(axis=-1)(g)\n",
    "    g = k.layers.Activation('relu')(g)\n",
    "    # d128\n",
    "    g = k.layers.Conv3D(128, (3,3,3), strides=(2,2,2), padding='same', kernel_initializer=init)(g)\n",
    "    g = InstanceNormalization(axis=-1)(g)\n",
    "    g = k.layers.Activation('relu')(g)\n",
    "    # d256\n",
    "    g = k.layers.Conv3D(256, (3,3,3), strides=(2,2,2), padding='same', kernel_initializer=init)(g)\n",
    "    g = InstanceNormalization(axis=-1)(g)\n",
    "    g = k.layers.Activation('relu')(g)\n",
    "    \n",
    "    # R256. resnet for the gradient. 9 layers\n",
    "    for _ in range(n_resnet):\n",
    "        g = resnet_block(256, g)  \n",
    "    \n",
    "    # u128\n",
    "    g = k.layers.Conv3DTranspose(128, (3,3,3), strides=(2,2,2), padding='same', kernel_initializer=init)(g)\n",
    "    g = InstanceNormalization(axis=-1)(g)\n",
    "    g = k.layers.Activation('relu')(g)\n",
    "    # u64\n",
    "    g = k.layers.Conv3DTranspose(64, (3,3,3), strides=(2,2,2), padding='same', kernel_initializer=init)(g)\n",
    "    g = InstanceNormalization(axis=-1)(g)\n",
    "    g = k.layers.Activation('relu')(g)\n",
    "    \n",
    "    # c7s1-3\n",
    "    # g = k.layers.Conv3D(3, (7,7,7), strides=(1,1,1), padding='same', kernel_initializer=init)(g)\n",
    "    # c7s1-1 for single channel images\n",
    "    g = k.layers.Conv3D(1, (7,7,7), strides=(1,1,1), padding='same', kernel_initializer=init)(g)\n",
    "    g = InstanceNormalization(axis=-1)(g)\n",
    "    out_image = k.layers.Activation('tanh')(g)  # roy: 可以用sigmoid激活？\n",
    "    # define the model\n",
    "    model = k.models.Model(in_image, out_image)  # generator does not compile\n",
    "    \n",
    "    return model"
   ]
  },
  {
   "cell_type": "markdown",
   "id": "3c2671e4-94bc-4fca-868b-f5692e052add",
   "metadata": {},
   "source": [
    "### Compose the model"
   ]
  },
  {
   "cell_type": "code",
   "execution_count": 11,
   "id": "e525ec37",
   "metadata": {},
   "outputs": [],
   "source": [
    "# define a composite model to update generator wuth adversarial and cycle loss\n",
    "# only use to train generator\n",
    "def define_composite_model(g_model_1, d_model, g_model_2, image_shape):\n",
    "    # use this to train both generators. But one at a time\n",
    "    # trained G is tranable, others are constant\n",
    "    g_model_1.trainable = True\n",
    "    d_model.trainable = False\n",
    "    g_model_2.trainable = False\n",
    "    \n",
    "    # adversarial loss\n",
    "    input_gen = k.layers.Input(shape=image_shape)\n",
    "    gen1_out = g_model_1(input_gen)\n",
    "    ouput_d = d_model(gen1_out)\n",
    "    # identity loss\n",
    "    input_id = k.layers.Input(shape=image_shape)\n",
    "    output_id = g_model_1(input_id)\n",
    "    # cycle-loss forward\n",
    "    output_f = g_model_2(gen1_out)\n",
    "    # cycle-loss backward\n",
    "    gen2_out = g_model_2(input_id)  # ???\n",
    "    output_b = g_model_1(gen2_out)\n",
    "    \n",
    "    # define the model graph\n",
    "    model = k.models.Model([input_gen, input_id], [ouput_d, output_id, output_f, output_b])\n",
    "    \n",
    "    # compile the model\n",
    "    opt = Adam(lr=0.0002, beta_1=0.5)\n",
    "    \n",
    "    # loss for the cycleGAN model\n",
    "    model.compile(loss=['mse', 'mae', 'mae', 'mae'], loss_weights=[1,5,10,10], optimizer=opt) # hyper param from paper\n",
    "    return model\n"
   ]
  },
  {
   "cell_type": "markdown",
   "id": "1d0692d6-3cea-48cb-a19d-dbdd326c87a7",
   "metadata": {
    "jp-MarkdownHeadingCollapsed": true,
    "tags": []
   },
   "source": [
    "#### 检查网络的结构形状"
   ]
  },
  {
   "cell_type": "code",
   "execution_count": 6,
   "id": "89c10526-f43e-4434-8fd9-e9d68aaf6dfa",
   "metadata": {},
   "outputs": [
    {
     "name": "stderr",
     "output_type": "stream",
     "text": [
      "D:\\INSTALL\\Anaconda\\envs\\EM\\lib\\site-packages\\keras\\optimizers\\optimizer_v2\\adam.py:110: UserWarning: The `lr` argument is deprecated, use `learning_rate` instead.\n",
      "  super(Adam, self).__init__(name, **kwargs)\n"
     ]
    }
   ],
   "source": [
    "# 检查输入输出的形状\n",
    "\n",
    "# define hyper param and intance of model in cycleGAN\n",
    "image_shape = [64,64,64,1]\n",
    "# generator A->B\n",
    "g_test_AtoB = define_generator(image_shape)\n",
    "# generator B->A\n",
    "g_test_BtoA = define_generator(image_shape)\n",
    "# D: A-> [real/ fake]\n",
    "d_test_A = define_discriminator(image_shape)\n",
    "# D: B-> [real/fake]\n",
    "d_test_B = define_discriminator(image_shape)\n",
    "# composite: A->B->[real/fake, A]\n",
    "c_test_AtoB = define_composite_model(g_test_AtoB, d_test_B, g_test_BtoA, image_shape)\n",
    "# composite: B->A->[real/fake, B]\n",
    "c_test_BtoA = define_composite_model(g_test_BtoA, d_test_A, g_test_AtoB, image_shape)"
   ]
  },
  {
   "cell_type": "code",
   "execution_count": 19,
   "id": "b65aee34-d5a5-42cf-9b56-d25b26b8f1cd",
   "metadata": {},
   "outputs": [
    {
     "name": "stdout",
     "output_type": "stream",
     "text": [
      "[(None, 64, 64, 64, 1), (None, 64, 64, 64, 1)] [(None, 4, 4, 4, 1), (None, 64, 64, 64, 1), (None, 64, 64, 64, 1), (None, 64, 64, 64, 1)]\n",
      "[(None, 64, 64, 64, 1), (None, 64, 64, 64, 1)] [(None, 4, 4, 4, 1), (None, 64, 64, 64, 1), (None, 64, 64, 64, 1), (None, 64, 64, 64, 1)]\n",
      "discriminator: (None, 64, 64, 64, 1) (None, 4, 4, 4, 1) (None, 4, 4, 4, 1)\n",
      "4\n"
     ]
    }
   ],
   "source": [
    "print(c_test_AtoB.input_shape, c_test_AtoB.output_shape)\n",
    "print(c_test_BtoA.input_shape, c_test_BtoA.output_shape)\n",
    "print('discriminator:', d_test_A.input_shape, d_test_A.output_shape, d_test_B.output_shape)\n",
    "print(d_test_A.output_shape[1])"
   ]
  },
  {
   "cell_type": "code",
   "execution_count": 22,
   "id": "4b672707-ff07-4172-b658-2f470e996db2",
   "metadata": {},
   "outputs": [
    {
     "name": "stdout",
     "output_type": "stream",
     "text": [
      "(260, 64, 64, 64, 1)\n",
      "(1, 64, 64, 64, 1) (1, 4, 4, 4, 1) (1, 64, 64, 64, 1) (1, 4, 4, 4, 1)\n"
     ]
    }
   ],
   "source": [
    "# 测试训练过程的数据形状\n",
    "n_patch = d_test_A.output_shape[1]\n",
    "n_batch = 1\n",
    "trainA = np.random.randn(260,64,64,64,1)\n",
    "trainB = trainA\n",
    "print(trainA.shape)\n",
    "# trainA, trainB = dataset\n",
    "X_realA, y_realA = generate_real_samples(trainA, n_batch, n_patch)\n",
    "X_realB, y_realB = generate_real_samples(trainB, n_batch, n_patch)\n",
    "print(X_realA.shape, y_realA.shape, X_realB.shape, y_realB.shape)"
   ]
  },
  {
   "cell_type": "code",
   "execution_count": 26,
   "id": "391f950a-843d-4aec-b658-c4e9564f6429",
   "metadata": {},
   "outputs": [
    {
     "name": "stdout",
     "output_type": "stream",
     "text": [
      "1/1 [==============================] - 11s 11s/step\n",
      "1/1 [==============================] - 1s 588ms/step\n"
     ]
    }
   ],
   "source": [
    "# 测试训练的单步\n",
    "\n",
    "X_fakeA, y_fakeA = generate_fake_samples(g_test_BtoA, X_realB, n_patch)\n",
    "X_fakeB, y_fakeB = generate_fake_samples(g_test_AtoB, X_realA, n_patch)"
   ]
  },
  {
   "cell_type": "code",
   "execution_count": 27,
   "id": "0c9f8535-9f3c-4388-8c13-80d81f48360a",
   "metadata": {
    "tags": []
   },
   "outputs": [
    {
     "name": "stdout",
     "output_type": "stream",
     "text": [
      "(1, 64, 64, 64, 1) (1, 4, 4, 4, 1)\n"
     ]
    }
   ],
   "source": [
    "print(X_fakeA.shape, y_fakeA.shape)"
   ]
  },
  {
   "cell_type": "code",
   "execution_count": null,
   "id": "d880bc1f-0e53-4746-bb95-f70c25b9f845",
   "metadata": {},
   "outputs": [],
   "source": [
    "g_loss2, _, _, _, _ = c_test_BtoA.train_on_batch([X_realB, X_realA], [y_realA, X_realA, X_realB, X_realA])\n",
    "dA_loss1 = d_test_A.train_on_batch(X_realA, y_realA)\n",
    "dA_loss2 = d_test_A.train_on_batch(X_fakeA, y_fakeA)  # since batch is 1, cannot split into half for real/fale\n",
    "\n",
    "print(dA_loss1, dA_loss2, g_loss2)"
   ]
  },
  {
   "cell_type": "code",
   "execution_count": 19,
   "id": "ed76773c-59b6-4ab7-afca-1c9fd355f364",
   "metadata": {},
   "outputs": [
    {
     "name": "stdout",
     "output_type": "stream",
     "text": [
      "(1, 64, 64, 64, 1) (1, 4, 4, 4, 1) 1.0 -1.0\n"
     ]
    }
   ],
   "source": [
    "X_realA, y_realA = generate_real_samples('mask', 4)\n",
    "print(X_realA.shape, y_realA.shape, X_realA.max(), X_realA.min())"
   ]
  },
  {
   "cell_type": "markdown",
   "id": "730e90c7",
   "metadata": {},
   "source": [
    "#### Processing images"
   ]
  },
  {
   "cell_type": "code",
   "execution_count": 12,
   "id": "8490330d",
   "metadata": {},
   "outputs": [],
   "source": [
    "# load and prepare traning images\n",
    "def load_real_samples(filename):\n",
    "    # load the dataset\n",
    "    data = load(filename)\n",
    "    # unpack arrays\n",
    "    X1, X2 = data['arr_0'], data['arr_1']\n",
    "    # scale from [0,255] to [-1,1]\n",
    "    X1 = (X1-127.5)/127.5\n",
    "    X2 = (X2-127.5)/127.5\n",
    "    return [X1, X2]\n",
    "\n",
    "# D needs fake and real images\n",
    "# select batch of samples, return images and target.\n",
    "# real images the label is '1'\n",
    "def generate_real_samples(DOMAIN, patch_shape, batch_size=1):\n",
    "    # ix = randint(0, dataset.shape[0], n_samples)\n",
    "    # X = dataset[ix]\n",
    "    \n",
    "    if DOMAIN == 'image':\n",
    "        X = train_img_datagen.__next__() \n",
    "    elif DOMAIN == 'mask':\n",
    "        X = train_msk_datagen.__next__()\n",
    "    else:\n",
    "        print('illegal domain')\n",
    "    \n",
    "    # generate the 'real' class label\n",
    "    y = np.ones((batch_size, patch_shape, patch_shape, patch_shape, 1)) # in th same size of one channel. change into 3D\n",
    "    return X, y\n",
    "\n",
    "# fake images with label '0'\n",
    "def generate_fake_samples(g_model, dataset, patch_shape):\n",
    "    X = g_model.predict(dataset)\n",
    "    # y = np.zeros((len(X), patch_shape, patch_shape, 1))\n",
    "    y = np.zeros((len(X), patch_shape, patch_shape, patch_shape, 1))  # into 3D\n",
    "    return X, y\n",
    "\n",
    "# save model\n",
    "def save_models(step, g_model_AtoB, g_model_BtoA):\n",
    "    # save the first generator models\n",
    "    filename1 = 'g_model_AtoB_%06d.h5' % (step+1)\n",
    "    g_model_AtoB.save(filename1)\n",
    "    # save the second generator model\n",
    "    filename2 = 'g_model_BtoA_%06d.h5' % (step+1)\n",
    "    g_model_BtoA.save(filename2)\n",
    "    print('>Saved: %s and %s' % (filename1, filename2))  "
   ]
  },
  {
   "cell_type": "code",
   "execution_count": 13,
   "id": "de3ee394",
   "metadata": {},
   "outputs": [],
   "source": [
    "# predict images with save model, plot input and output images\n",
    "def summarize_performance(step, g_model, trainX, name, n_samples=5):\n",
    "    # sample input images\n",
    "    X_in, _ = generate_real_samples(trainX, n_samples, 0)\n",
    "    # generate translated images\n",
    "    X_out, _ = generate_fake_samples(g_model, X_in, 0)\n",
    "    # scale pixels from [-1,1] to [0,1]\n",
    "    X_in = (X_in + 1)/2\n",
    "    X_out = (X_out + 1)/2\n",
    "    # plot real images\n",
    "    for i in range(n_samples):\n",
    "        plt.subplot(2, n_samples, 1+i)\n",
    "        plt.axis('off')\n",
    "        plt.imshow(X_in[i])\n",
    "    for i in range(n_samples):\n",
    "        plt.subplot(2, n_samples, 1+i+n_samples)\n",
    "        plt.axis('off')\n",
    "        plt.imshow(X_out[i])\n",
    "    # save plot\n",
    "    filename1 = '%s_generated_plot_%06d.png' % (name, (step+1))\n",
    "    plt.savefig(filename1)\n",
    "    plt.close()\n",
    "        "
   ]
  },
  {
   "cell_type": "code",
   "execution_count": 14,
   "id": "0c7f56d5",
   "metadata": {},
   "outputs": [],
   "source": [
    "# update fake images pool to avoid model oscillation\n",
    "# update D using a history of generated images rather than latest generators\n",
    "# image buffer is 50\n",
    "\n",
    "from random import random\n",
    "\n",
    "def update_image_pool(pool, images, max_size=20):\n",
    "    selected = list()\n",
    "    for image in images:\n",
    "        if len(pool) < max_size:\n",
    "            # stock the pool\n",
    "            pool.append(image)\n",
    "            selected.append(image)\n",
    "        elif random.random() < 0.5:  # weird, must indicate the package name\n",
    "            # use images, but don't add it into pool\n",
    "            selected.append(image)\n",
    "        else:\n",
    "            # replace exiting images and use replaced \n",
    "            ix = randint(0, len(pool))\n",
    "            selected.append(pool[ix])\n",
    "            pool[ix] = image\n",
    "    out = np.asarray(selected)  # transfer into array\n",
    "    return out"
   ]
  },
  {
   "cell_type": "markdown",
   "id": "81c17bf6",
   "metadata": {},
   "source": [
    "#### training process"
   ]
  },
  {
   "cell_type": "code",
   "execution_count": 28,
   "id": "b91fe180",
   "metadata": {},
   "outputs": [],
   "source": [
    "# train cyclegan\n",
    "def train(d_model_A, d_model_B, g_model_AtoB, g_model_BtoA, c_model_AtoB, c_model_BtoA, train_img_list, epochs=1):\n",
    "    # training hyper param\n",
    "    n_epochs, n_batch = epochs, 1 # batch_size is fixed into 1\n",
    "    # output square shape of D\n",
    "    n_patch = d_model_A.output_shape[1]\n",
    "    # unpack dataset\n",
    "    # trainA, trainB = dataset\n",
    "    \n",
    "    # image pool for fake images\n",
    "    poolA, poolB = list(), list()\n",
    "    # number of batches per training epoch\n",
    "    bat_per_epo = int(len(train_img_list) / n_batch)\n",
    "    # training iterations\n",
    "    n_steps = bat_per_epo * n_epochs\n",
    "    \n",
    "    # enumerate epochs\n",
    "    for i in range(n_steps):\n",
    "        # for every iteration/ batch\n",
    "        # sample real images from both domain\n",
    "        X_realA, y_realA = generate_real_samples('image', n_patch, batch_size=1)  # A domain: image\n",
    "        X_realB, y_realB = generate_real_samples('mask', n_patch, batch_size=1)  # B domain: mask\n",
    "        \n",
    "        # generate fake images for both (A2B, B2A)\n",
    "        X_fakeA, y_fakeA = generate_fake_samples(g_model_BtoA, X_realB, n_patch)\n",
    "        X_fakeB, y_fakeB = generate_fake_samples(g_model_AtoB, X_realA, n_patch)\n",
    "        \n",
    "        # update the fake images in the pool as buffer with 50 images. tricks for model collapsing\n",
    "        X_fakeA = update_image_pool(poolA, X_fakeA)\n",
    "        X_fakeB = update_image_pool(poolB, X_fakeB)\n",
    "        \n",
    "        # update G-B2A via composite model\n",
    "        # this is the combine model: G1 + G2 + D\n",
    "        g_loss2, _, _, _, _ = c_model_BtoA.train_on_batch([X_realB, X_realA], [y_realA, X_realA, X_realB, X_realA])\n",
    "        # update D for A->[real/fake]\n",
    "        dA_loss1 = d_model_A.train_on_batch(X_realA, y_realA)\n",
    "        dA_loss2 = d_model_A.train_on_batch(X_fakeA, y_fakeA)  # since batch is 1, cannot split into half for real/fale\n",
    "        \n",
    "        # update G-A2B via composite model\n",
    "        g_loss1, _, _, _, _ = c_model_AtoB.train_on_batch([X_realA, X_realB], [y_realB, X_realB, X_realA, X_realB])\n",
    "        dB_loss1 = d_model_B.train_on_batch(X_realB, y_realB)\n",
    "        dB_loss2 = d_model_B.train_on_batch(X_fakeB, y_fakeB)\n",
    "        \n",
    "        # summarize the performance\n",
    "        # batch size is 1, iteration is same as dataset\n",
    "        # if there are 100 images, then 1 epoch will be 100 iterations\n",
    "        print('Iterations>%d, dA[%.3f, %3.f] dB[%.3f,%.3f] g[%.3f, %.3f]'% (i+1, dA_loss1, dA_loss2, dB_loss1, dB_loss2, g_loss1, g_loss2))\n",
    "        \n",
    "        # evaluate performance periodically\n",
    "        if (i+1) % (bat_per_epo * 1) == 0:\n",
    "            # plot A->B translation\n",
    "            summarize_performance(i, g_model_AtoB, trainA, 'A2B')\n",
    "            # plot B->A translation\n",
    "            summarize_performance(i, g_model_BtoA, trainB, 'B2A')\n",
    "        \n",
    "        # save model every 5 batches\n",
    "        if (i+1) % (bat_per_epo * 5) == 0:\n",
    "            # if batch size(total images)=100, model saved after every 75th * 5 = 375 iter \n",
    "            save_models(i, g_model_AtoB, g_model_BtoA)\n",
    "            "
   ]
  },
  {
   "cell_type": "markdown",
   "id": "8881503f",
   "metadata": {},
   "source": [
    "### Traning"
   ]
  },
  {
   "cell_type": "code",
   "execution_count": 17,
   "id": "6b65dcf2",
   "metadata": {},
   "outputs": [
    {
     "name": "stdout",
     "output_type": "stream",
     "text": [
      "(64, 64, 64, 1)\n"
     ]
    }
   ],
   "source": [
    "test = train_img_datagen.__next__()\n",
    "\n",
    "image_shape = test.shape[1:]\n",
    "print(image_shape)"
   ]
  },
  {
   "cell_type": "code",
   "execution_count": 19,
   "id": "d61a3bb9",
   "metadata": {},
   "outputs": [
    {
     "name": "stderr",
     "output_type": "stream",
     "text": [
      "D:\\INSTALL\\Anaconda\\envs\\EM\\lib\\site-packages\\keras\\optimizers\\optimizer_v2\\adam.py:110: UserWarning: The `lr` argument is deprecated, use `learning_rate` instead.\n",
      "  super(Adam, self).__init__(name, **kwargs)\n"
     ]
    }
   ],
   "source": [
    "# define hyper param and intance of model in cycleGAN\n",
    "image_shape = test.shape[1:]\n",
    "# generator A->B\n",
    "g_model_AtoB = define_generator(image_shape)\n",
    "# generator B->A\n",
    "g_model_BtoA = define_generator(image_shape)\n",
    "# D: A-> [real/ fake]\n",
    "d_model_A = define_discriminator(image_shape)\n",
    "# D: B-> [real/fake]\n",
    "d_model_B = define_discriminator(image_shape)\n",
    "# composite: A->B->[real/fake, A]\n",
    "c_model_AtoB = define_composite_model(g_model_AtoB, d_model_B, g_model_BtoA, image_shape)\n",
    "# composite: B->A->[real/fake, B]\n",
    "c_model_BtoA = define_composite_model(g_model_BtoA, d_model_A, g_model_AtoB, image_shape)\n"
   ]
  },
  {
   "cell_type": "markdown",
   "id": "7f054d8a",
   "metadata": {},
   "source": [
    "#### Training process"
   ]
  },
  {
   "cell_type": "code",
   "execution_count": null,
   "id": "b444fbc3",
   "metadata": {},
   "outputs": [],
   "source": [
    "# training\n",
    "\n",
    "from datetime import datetime\n",
    "start1 = datetime.now()\n",
    "# train model\n",
    "train(d_model_A, d_model_B, g_model_AtoB, g_model_BtoA, c_model_AtoB, c_model_BtoA, train_img_list, epochs=1)\n",
    "\n",
    "stop1 = datetime.now()"
   ]
  },
  {
   "cell_type": "code",
   "execution_count": null,
   "id": "5b51f110",
   "metadata": {},
   "outputs": [],
   "source": [
    "# execustion time\n",
    "execution_time = stop1 - start1\n",
    "print('Executed time: ', execution_time)"
   ]
  },
  {
   "cell_type": "markdown",
   "id": "3db2b6cd",
   "metadata": {},
   "source": [
    "### Testing. load trained model"
   ]
  },
  {
   "cell_type": "code",
   "execution_count": 19,
   "id": "2a3ed2b8",
   "metadata": {},
   "outputs": [],
   "source": [
    "# use the saved cycleGAN for image translation\n",
    "from keras.models import load_model"
   ]
  },
  {
   "cell_type": "code",
   "execution_count": 20,
   "id": "73f2a19a",
   "metadata": {},
   "outputs": [],
   "source": [
    "# select random samples from dataset\n",
    "def select_samples(dataset, n_samples):\n",
    "    ix = randint(0, dataset.shape[0], n_samples)\n",
    "    X = dataset[ix]\n",
    "    return X"
   ]
  },
  {
   "cell_type": "code",
   "execution_count": 21,
   "id": "f239ac66",
   "metadata": {},
   "outputs": [],
   "source": [
    "# plot the image, translation and reconstruction\n",
    "def show_plot(imagesX, imagesY1, imagesY2):\n",
    "    images = np.vstack((imagesX, imagesY1, imagesY2))\n",
    "    titles = ['Real', 'Generated', 'Reconstructed']\n",
    "    # scale from [-1,1] to [0,1]\n",
    "    images = (images + 1) / 2.0\n",
    "    # plot the images\n",
    "    for i in range(len(images)):\n",
    "        plt.subplot(1, len(images), 1+i)\n",
    "        plt.axis('off')\n",
    "        plt.imshow(images[i])\n",
    "        plt.title(titles[i])\n",
    "    plt.show()\n",
    "    "
   ]
  },
  {
   "cell_type": "code",
   "execution_count": 22,
   "id": "50f1b643",
   "metadata": {},
   "outputs": [
    {
     "name": "stdout",
     "output_type": "stream",
     "text": [
      "focal dataset:  (256, 256, 256, 3)\n",
      "volume dataset:  (256, 256, 256, 3)\n"
     ]
    }
   ],
   "source": [
    "# loading the test dataset\n",
    "A_data = X_test  # focal\n",
    "B_data = Y_test  # volume\n",
    "\n",
    "predict_data = [A_data, B_data]\n",
    "\n",
    "predict_data = preprocess_data(predict_data)  # re-scale and pre-processing\n",
    "print('focal dataset: ', predict_data[0].shape)\n",
    "print('volume dataset: ', predict_data[1].shape)"
   ]
  },
  {
   "cell_type": "code",
   "execution_count": 23,
   "id": "0ba45641",
   "metadata": {},
   "outputs": [],
   "source": [
    "# # load dataset\n",
    "# A_data = resample(dataA_all, replace=False, n_samples=50, random_state=42)\n",
    "# B_data = resample(dataB_all, replace=False, n_samples=50, random_state=42)\n",
    "\n",
    "# A_data = (A_data - 127.5) / 127.5\n",
    "# B_data = (B_data - 127.5) / 127.5"
   ]
  },
  {
   "cell_type": "code",
   "execution_count": 27,
   "id": "25cdadfd",
   "metadata": {},
   "outputs": [
    {
     "name": "stdout",
     "output_type": "stream",
     "text": [
      "WARNING:tensorflow:No training configuration found in the save file, so the model was *not* compiled. Compile it manually.\n",
      "WARNING:tensorflow:No training configuration found in the save file, so the model was *not* compiled. Compile it manually.\n",
      "WARNING:tensorflow:No training configuration found in the save file, so the model was *not* compiled. Compile it manually.\n"
     ]
    }
   ],
   "source": [
    "# load models\n",
    "cust = {'InstanceNormalization': InstanceNormalization}  # !!! the lcoal normalization \n",
    "model_AtoB = load_model('./cycleGAN/model/g_model_AtoB_028160.h5', cust)\n",
    "model_BtoA1 = load_model('./cycleGAN/model/g_model_BtoA_028160.h5', cust)\n",
    "model_BtoA2 = load_model('./cycleGAN/model/g_model_BtoA_025600.h5', cust)"
   ]
  },
  {
   "cell_type": "code",
   "execution_count": 25,
   "id": "f90ca440",
   "metadata": {},
   "outputs": [],
   "source": [
    "# prediction of the results\n",
    "B_generated  = model_AtoB.predict(predict_data[0])  # transfer focal > volume\n",
    "A_generated1  = model_BtoA1.predict(predict_data[1])  # volume > focal\n",
    "A_generated2  = model_BtoA2.predict(predict_data[1])  # volume > focal"
   ]
  },
  {
   "cell_type": "code",
   "execution_count": 26,
   "id": "369bb3f5",
   "metadata": {},
   "outputs": [
    {
     "name": "stderr",
     "output_type": "stream",
     "text": [
      "WARNING: DirectWrite: CreateFontFaceFromHDC() failed (Indicates an error in an input file such as a font file.) for QFontDef(Family=\"\", pointsize=12, pixelsize=16, styleHint=5, weight=50, stretch=100, hintingPreference=0) LOGFONT(\"MS Sans Serif\", lfWidth=0, lfHeight=-16) dpi=96\n"
     ]
    }
   ],
   "source": [
    "# check the generated volume and original volume\n",
    "\n",
    "import napari\n",
    "\n",
    "viewer1 = napari.view_image(B_generated)  # generated volume\n",
    "napari.run() \n",
    "viewer2 = napari.view_image(predict_data[1])  \n",
    "napari.run() \n"
   ]
  },
  {
   "cell_type": "code",
   "execution_count": 28,
   "id": "dc1a368e",
   "metadata": {},
   "outputs": [],
   "source": [
    "# check the generated focal and original focal\n",
    "\n",
    "import napari\n",
    "\n",
    "viewer1 = napari.view_image(A_generated1)  # generated focal-28160 model\n",
    "napari.run() \n",
    "viewer2 = napari.view_image(A_generated2)  # generated focal-25600 model\n",
    "napari.run() \n",
    "viewer3 = napari.view_image(predict_data[0])  \n",
    "napari.run() "
   ]
  },
  {
   "cell_type": "code",
   "execution_count": null,
   "id": "fd08ae65",
   "metadata": {},
   "outputs": [],
   "source": []
  }
 ],
 "metadata": {
  "kernelspec": {
   "display_name": "Python 3 (ipykernel)",
   "language": "python",
   "name": "python3"
  },
  "language_info": {
   "codemirror_mode": {
    "name": "ipython",
    "version": 3
   },
   "file_extension": ".py",
   "mimetype": "text/x-python",
   "name": "python",
   "nbconvert_exporter": "python",
   "pygments_lexer": "ipython3",
   "version": "3.7.13"
  },
  "varInspector": {
   "cols": {
    "lenName": 16,
    "lenType": 16,
    "lenVar": 40
   },
   "kernels_config": {
    "python": {
     "delete_cmd_postfix": "",
     "delete_cmd_prefix": "del ",
     "library": "var_list.py",
     "varRefreshCmd": "print(var_dic_list())"
    },
    "r": {
     "delete_cmd_postfix": ") ",
     "delete_cmd_prefix": "rm(",
     "library": "var_list.r",
     "varRefreshCmd": "cat(var_dic_list()) "
    }
   },
   "position": {
    "height": "391.844px",
    "left": "1094px",
    "right": "20px",
    "top": "69px",
    "width": "751px"
   },
   "types_to_exclude": [
    "module",
    "function",
    "builtin_function_or_method",
    "instance",
    "_Feature"
   ],
   "window_display": false
  }
 },
 "nbformat": 4,
 "nbformat_minor": 5
}
